{
 "cells": [
  {
   "cell_type": "code",
   "execution_count": 1,
   "metadata": {},
   "outputs": [],
   "source": [
    "import iris\n",
    "import iris.coord_categorisation\n",
    "import matplotlib.pyplot as plt\n",
    "import numpy as np\n",
    "import iris.quickplot as qplt\n",
    "import netCDF4\n",
    "import datetime\n",
    "import scipy\n",
    "import scipy.signal\n",
    "import glob\n",
    "import cartopy.crs as ccrs\n",
    "import cartopy.feature as cfeature\n",
    "from scipy.stats import t\n",
    "import pickle\n",
    "import os\n",
    "import glob\n",
    "\n",
    "\"\"\"\n",
    "Potential issues to think about:\n",
    "    William uses: Might only SST values (because from satilite). Models are at best deaily mean\n",
    "    They use a standardising year of 1988.3 which would not necessarily be a sensble year to use given model metholology\n",
    "    \n",
    "\n",
    "\n",
    "Skirving methodology\n",
    "Regarding the current methodology for deriving the MMM it goes like this:\n",
    "\n",
    "\n",
    "\n",
    "1)  for the period of 1985 to 2012, turn each yearly month into an average SST value (only night-only SST values).\n",
    "2)  for each month, fit a linear regression to the 28 SST values across all years  ie Y = a + bX, where Y is the monthly averaged SST and X is the year\n",
    "3)  at this stage you will have 12 linear regressions per pixel, one for each month.  Determine the SST value for X = 1988.3\n",
    "4)  this will provide you with 12 SST values, the maximum of which will be the MMM value for that pixel, the month that this value represents is called the MMM month.\n",
    "\"\"\"\n",
    "\n",
    "directory = '/data/BatCaveNAS/ph290/cmip6/tmp2/processed/'"
   ]
  },
  {
   "cell_type": "code",
   "execution_count": 2,
   "metadata": {},
   "outputs": [],
   "source": [
    "def extract_region(cube,lon_west,lon_east,lat_south,lat_north):\n",
    "    cube_region_tmp = cube.intersection(longitude=(lon_west, lon_east))\n",
    "    cube_region = cube_region_tmp.intersection(latitude=(lat_south, lat_north))\n",
    "    return cube_region"
   ]
  },
  {
   "cell_type": "code",
   "execution_count": 3,
   "metadata": {},
   "outputs": [],
   "source": [
    "def area_avg(cube):\n",
    "    try:\n",
    "        cube.coord('latitude').guess_bounds()\n",
    "        cube.coord('longitude').guess_bounds()\n",
    "    except:\n",
    "        pass\n",
    "    grid_areas = iris.analysis.cartography.area_weights(cube)\n",
    "    return cube.collapsed(['longitude','latitude'],iris.analysis.MEAN, weights=grid_areas)"
   ]
  },
  {
   "cell_type": "code",
   "execution_count": 4,
   "metadata": {},
   "outputs": [],
   "source": [
    "\n",
    "def linregress_3D(y_array):\n",
    "    # y_array is a 3-D array formatted like (time,lon,lat)\n",
    "    # The purpose of this function is to do linear regression using time series of data over each (lon,lat) grid box with consideration of ignoring np.nan\n",
    "    # Construct x_array indicating time indexes of y_array, namely the independent variable.\n",
    "    x_array=np.empty(y_array.shape)\n",
    "    for i in range(y_array.shape[0]): x_array[i,:,:]=i+1 # This would be fine if time series is not too long. Or we can use i+yr (e.g. 2019).\n",
    "    x_array[np.isnan(y_array)]=np.nan\n",
    "    # Compute the number of non-nan over each (lon,lat) grid box.\n",
    "    n=np.sum(~np.isnan(x_array),axis=0)\n",
    "    # Compute mean and standard deviation of time series of x_array and y_array over each (lon,lat) grid box.\n",
    "    x_mean=np.nanmean(x_array,axis=0)\n",
    "    y_mean=np.nanmean(y_array,axis=0)\n",
    "    x_std=np.nanstd(x_array,axis=0)\n",
    "    y_std=np.nanstd(y_array,axis=0)\n",
    "    # Compute co-variance between time series of x_array and y_array over each (lon,lat) grid box.\n",
    "    cov=np.nansum((x_array-x_mean)*(y_array-y_mean),axis=0)/n\n",
    "    # Compute correlation coefficients between time series of x_array and y_array over each (lon,lat) grid box.\n",
    "    cor=cov/(x_std*y_std)\n",
    "    # Compute slope between time series of x_array and y_array over each (lon,lat) grid box.\n",
    "    slope=cov/(x_std**2)\n",
    "    # Compute intercept between time series of x_array and y_array over each (lon,lat) grid box.\n",
    "    intercept=y_mean-x_mean*slope\n",
    "    # Compute tstats, stderr, and p_val between time series of x_array and y_array over each (lon,lat) grid box.\n",
    "    tstats=cor*np.sqrt(n-2)/np.sqrt(1-cor**2)\n",
    "    stderr=slope/tstats\n",
    "    p_val=t.sf(tstats,n-2)*2\n",
    "    # Compute r_square and rmse between time series of x_array and y_array over each (lon,lat) grid box.\n",
    "    # r_square also equals to cor**2 in 1-variable lineare regression analysis, which can be used for checking.\n",
    "    r_square=np.nansum((slope*x_array+intercept-y_mean)**2,axis=0)/np.nansum((y_array-y_mean)**2,axis=0)\n",
    "    rmse=np.sqrt(np.nansum((y_array-slope*x_array-intercept)**2,axis=0)/n)\n",
    "    # Do further filteration if needed (e.g. We stipulate at least 3 data records are needed to do regression analysis) and return values\n",
    "    n=n*1.0 # convert n from integer to float to enable later use of np.nan\n",
    "    n[n<3]=np.nan\n",
    "    slope[np.isnan(n)]=np.nan\n",
    "    intercept[np.isnan(n)]=np.nan\n",
    "    p_val[np.isnan(n)]=np.nan\n",
    "    r_square[np.isnan(n)]=np.nan\n",
    "    rmse[np.isnan(n)]=np.nan\n",
    "#     return n,slope,intercept,p_val,r_square,rmse\n",
    "    return slope,intercept"
   ]
  },
  {
   "cell_type": "code",
   "execution_count": 5,
   "metadata": {},
   "outputs": [],
   "source": [
    "# https://rmets.onlinelibrary.wiley.com/doi/pdf/10.1002/joc.3486\n",
    "# the monthly data set for 1982 – 2006 was first detrended using a linear regression, calculated for each month of the year and grid cell. The data set was detrended and centred on 1988\n",
    "# I don't like this - it becoes ver deending on whether 1988 is a warm or cold year/...\n",
    "\n",
    "def mmm(cube,years_for_mmm_climatology):\n",
    "    cube_years = cube.coord('year').points\n",
    "    #subset the data into the bit you want to use to calculate the MMM climatology and the bit you want to calculate DHW on\n",
    "    clim_cube = cube[np.where((cube_years > years_for_mmm_climatology[0]) & (cube_years < years_for_mmm_climatology[1]))]\n",
    "    #collapse the months together, taking the maximum value at each lat-lon grid square\n",
    "    mmm_climatology = clim_cube.collapsed('time',iris.analysis.MAX)\n",
    "    return mmm_climatology\n",
    "\n",
    "def mmm_with_detrending(cube,years_for_mmm_climatology):\n",
    "    cube_years = cube.coord('year').points\n",
    "    #subset the data into the bit you want to use to calculate the MMM climatology and the bit you want to calculate DHW on\n",
    "    clim_cube = cube[np.where((cube_years > years_for_mmm_climatology[0]) & (cube_years < years_for_mmm_climatology[1]))]\n",
    "    monthly_mean_climatology = clim_cube.collapsed('time',iris.analysis.MEAN)\n",
    "    clim_cube_detrended = clim_cube.copy()\n",
    "    clim_cube_detrended.data = scipy.signal.detrend(clim_cube_detrended.data,axis = 0)\n",
    "    clim_cube_final = clim_cube_detrended + monthly_mean_climatology\n",
    "    #collapse the months together, taking the maximum value at each lat-lon grid square\n",
    "    mmm_climatology = clim_cube_final.collapsed('time',iris.analysis.MAX)\n",
    "    return mmm_climatology\n",
    "\n",
    "\n",
    "def mmm_skirving(cube):\n",
    "    missing_data_value_greater_than = 1.0e19\n",
    "    print 'NOTE THIS SHOULD BE USING NIGHT TIME TEMPERATURES'\n",
    "    years_for_mmm_climatology = [1985,2012]\n",
    "    standardisation_date = 1988.3\n",
    "    mm_cube = cube[0:12].copy()\n",
    "    mm_cube_data = mm_cube.data.copy()\n",
    "    cube_years = cube.coord('year').points\n",
    "    #subset the data into the bit you want to use to calculate the MMM climatology and the bit you want to calculate DHW on\n",
    "    clim_cube = cube[np.where((cube_years >= years_for_mmm_climatology[0]) & (cube_years <= years_for_mmm_climatology[1]))]\n",
    "    clim_cube_detrended = clim_cube.copy()\n",
    "    clim_cube_detrended_data = clim_cube_detrended.data\n",
    "    print np.shape(clim_cube_detrended)\n",
    "    for i,month in enumerate(np.unique(cube.coord('month_number').points)):\n",
    "        loc = np.where(clim_cube.coord('month_number').points == month)\n",
    "        tmp = clim_cube_detrended_data[loc,:,:].data[0]\n",
    "        tmp[np.where(tmp > missing_data_value_greater_than )] = np.nan\n",
    "        slope,intercept = linregress_3D(tmp)\n",
    "        x = standardisation_date - years_for_mmm_climatology[0]\n",
    "        y = (slope * x ) + intercept\n",
    "        mm_cube_data[i,:,:] = y\n",
    "    mm_cube.data = mm_cube_data\n",
    "    mmm_climatology = mm_cube.collapsed('time',iris.analysis.MAX)\n",
    "    return mmm_climatology"
   ]
  },
  {
   "cell_type": "code",
   "execution_count": null,
   "metadata": {},
   "outputs": [],
   "source": []
  },
  {
   "cell_type": "code",
   "execution_count": 6,
   "metadata": {},
   "outputs": [],
   "source": [
    "\n",
    "\n",
    "def dhm(cube,mmm_climatology,years_over_which_to_calculate_dhw):\n",
    "    cube_years = cube.coord('year').points\n",
    "    main_cube = cube[np.where((cube_years > years_over_which_to_calculate_dhw[0]) & (cube_years < years_over_which_to_calculate_dhw[1]))]\n",
    "    #subtract the monthly mean climatology from the rest of the data\n",
    "    main_cube -= mmm_climatology\n",
    "\n",
    "    #set all values less than 1 to zero\n",
    "    main_cube.data[np.where(main_cube.data <= 1.0)] = 0.0\n",
    "    #OR\n",
    "#     main_cube.data[np.where(main_cube.data <= 0.0)] = 0.0\n",
    "\n",
    "    #make a cube to hold the output data\n",
    "    output_cube = main_cube[2::].copy()\n",
    "    output_cube.data[:] = np.nan\n",
    "    output_cube_data = output_cube.data.copy()\n",
    "\n",
    "    #loop through from day 84 to the end of the dataset\n",
    "    for i in range(output_cube.shape[0]):\n",
    "#         print i,' of ',output_cube.shape[0]\n",
    "        #sum the temperatures in that 84 day window and divide result by 7 to get in DHWeeks rather than DHdays\n",
    "        tmp_data = main_cube[i:i+3].collapsed('time',iris.analysis.SUM)\n",
    "        output_cube_data[i,:,:] = tmp_data.data\n",
    "\n",
    "    #save the output\n",
    "    output_cube.data = output_cube_data\n",
    "    return output_cube\n",
    "\n",
    "\n",
    "\n",
    "def dhm_Spillman_2013(cube,mmm_climatology,years_over_which_to_calculate_dhw):\n",
    "    cube_years = cube.coord('year').points\n",
    "    main_cube = cube[np.where((cube_years > years_over_which_to_calculate_dhw[0]) & (cube_years < years_over_which_to_calculate_dhw[1]))]\n",
    "    #subtract the monthly mean climatology from the rest of the data\n",
    "    main_cube -= mmm_climatology\n",
    "\n",
    "    #set all values less than 1 to zero\n",
    "#     main_cube.data[np.where(main_cube.data <= 1.0)] = 0.0\n",
    "    #OR\n",
    "    main_cube.data[np.where(main_cube.data <= 0.0)] = 0.0\n",
    "\n",
    "    #make a cube to hold the output data\n",
    "    output_cube = main_cube[2::].copy()\n",
    "    output_cube.data[:] = np.nan\n",
    "    output_cube_data = output_cube.data.copy()\n",
    "\n",
    "    #loop through from day 84 to the end of the dataset\n",
    "    for i in range(output_cube.shape[0]):\n",
    "#         print i,' of ',output_cube.shape[0]\n",
    "        #sum the temperatures in that 84 day window and divide result by 7 to get in DHWeeks rather than DHdays\n",
    "        tmp_data = main_cube[i:i+3].collapsed('time',iris.analysis.SUM)\n",
    "        output_cube_data[i,:,:] = tmp_data.data\n",
    "\n",
    "    #save the output\n",
    "    output_cube.data = output_cube_data\n",
    "    return output_cube"
   ]
  },
  {
   "cell_type": "code",
   "execution_count": 7,
   "metadata": {},
   "outputs": [],
   "source": [
    "def dhw(cube,mmm_climatology,years_over_which_to_calculate_dhw):\n",
    "    cube_years = cube.coord('year').points\n",
    "    #note this is to be uef with daily data...\n",
    "    main_cube = cube[np.where((cube_years > years_over_which_to_calculate_dhw[0]) & (cube_years < years_over_which_to_calculate_dhw[1]))]\n",
    "    #subtract the monthly mean climatology from the rest of the data\n",
    "    main_cube -= mmm_climatology\n",
    "\n",
    "    #set all values less than 1 to zero\n",
    "    main_cube.data[np.where(main_cube.data <= 1.0)] = 0.0\n",
    "\n",
    "    #make a cube to hold the output data\n",
    "    output_cube = main_cube[83::].copy()\n",
    "    output_cube.data[:] = np.nan\n",
    "    output_cube_data = output_cube.data.copy()\n",
    "\n",
    "    #loop through from day 84 to the end of the dataset\n",
    "    for i in range(output_cube.shape[0]):\n",
    "#         print i,' of ',output_cube.shape[0]\n",
    "        #sum the temperatures in that 84 day window and divide result by 7 to get in DHWeeks rather than DHdays\n",
    "        tmp_data = main_cube[i:i+3].collapsed('time',iris.analysis.SUM)/7\n",
    "        output_cube_data[i,:,:] = tmp_data.data\n",
    "\n",
    "    #save the output\n",
    "    output_cube.data = output_cube_data\n",
    "    return output_cube"
   ]
  },
  {
   "cell_type": "markdown",
   "metadata": {},
   "source": [
    "# Read in satilite data"
   ]
  },
  {
   "cell_type": "code",
   "execution_count": 9,
   "metadata": {},
   "outputs": [],
   "source": [
    "directory = '/data/BatCaveNAS/ph290/obs/crw_sst/'\n",
    "files = glob.glob(directory+'coraltemp_v1.0.nc')\n",
    "cube = iris.load_cube(files,'sea_surface_temperature')\n",
    "\n",
    "try:\n",
    "    iris.coord_categorisation.add_year(cube, 'time', name='year')\n",
    "    iris.coord_categorisation.add_month(cube, 'time', name='month')\n",
    "    iris.coord_categorisation.add_month_number(cube, 'time', name='month_number')\n",
    "    iris.coord_categorisation.add_day_of_month(cube, 'time', name='day_of_month')\n",
    "except:\n",
    "    pass"
   ]
  },
  {
   "cell_type": "code",
   "execution_count": null,
   "metadata": {},
   "outputs": [],
   "source": []
  },
  {
   "cell_type": "code",
   "execution_count": null,
   "metadata": {},
   "outputs": [],
   "source": []
  },
  {
   "cell_type": "code",
   "execution_count": 68,
   "metadata": {},
   "outputs": [
    {
     "name": "stderr",
     "output_type": "stream",
     "text": [
      "Exception AttributeError: \"'CFReader' object has no attribute '_dataset'\" in <bound method CFReader.__del__ of CFReader('/data/BatCaveNAS/ph290/obs/crw_sst/coraltemp_v1.0_20160111.nc')> ignored\n"
     ]
    },
    {
     "ename": "ConcatenateError",
     "evalue": "failed to concatenate into a single cube.\n  Cube metadata differs for phenomenon: sea_surface_temperature",
     "output_type": "error",
     "traceback": [
      "\u001b[0;31m---------------------------------------------------------------------------\u001b[0m",
      "\u001b[0;31mConcatenateError\u001b[0m                          Traceback (most recent call last)",
      "\u001b[0;32m<ipython-input-68-9abf1a7dc83e>\u001b[0m in \u001b[0;36m<module>\u001b[0;34m()\u001b[0m\n\u001b[1;32m     14\u001b[0m \u001b[0;31m# iris.util.unify_time_units(cubes)\u001b[0m\u001b[0;34m\u001b[0m\u001b[0;34m\u001b[0m\u001b[0m\n\u001b[1;32m     15\u001b[0m \u001b[0;31m# iris.experimental.equalise_cubes.equalise_attributes(cubes)\u001b[0m\u001b[0;34m\u001b[0m\u001b[0;34m\u001b[0m\u001b[0m\n\u001b[0;32m---> 16\u001b[0;31m \u001b[0mcube\u001b[0m \u001b[0;34m=\u001b[0m \u001b[0mcubes\u001b[0m\u001b[0;34m.\u001b[0m\u001b[0mconcatenate_cube\u001b[0m\u001b[0;34m(\u001b[0m\u001b[0;34m)\u001b[0m\u001b[0;34m\u001b[0m\u001b[0m\n\u001b[0m\u001b[1;32m     17\u001b[0m \u001b[0;31m# cube = iris.load_cube(files[0],'sea_surface_temperature')\u001b[0m\u001b[0;34m\u001b[0m\u001b[0;34m\u001b[0m\u001b[0m\n\u001b[1;32m     18\u001b[0m \u001b[0;32mtry\u001b[0m\u001b[0;34m:\u001b[0m\u001b[0;34m\u001b[0m\u001b[0m\n",
      "\u001b[0;32m/home/ph290/anaconda2/lib/python2.7/site-packages/iris/cube.pyc\u001b[0m in \u001b[0;36mconcatenate_cube\u001b[0;34m(self, check_aux_coords)\u001b[0m\n\u001b[1;32m    500\u001b[0m             res = iris._concatenate.concatenate(\n\u001b[1;32m    501\u001b[0m                 \u001b[0mself\u001b[0m\u001b[0;34m,\u001b[0m \u001b[0merror_on_mismatch\u001b[0m\u001b[0;34m=\u001b[0m\u001b[0mTrue\u001b[0m\u001b[0;34m,\u001b[0m\u001b[0;34m\u001b[0m\u001b[0m\n\u001b[0;32m--> 502\u001b[0;31m                 check_aux_coords=check_aux_coords)\n\u001b[0m\u001b[1;32m    503\u001b[0m             \u001b[0mn_res_cubes\u001b[0m \u001b[0;34m=\u001b[0m \u001b[0mlen\u001b[0m\u001b[0;34m(\u001b[0m\u001b[0mres\u001b[0m\u001b[0;34m)\u001b[0m\u001b[0;34m\u001b[0m\u001b[0m\n\u001b[1;32m    504\u001b[0m             \u001b[0;32mif\u001b[0m \u001b[0mn_res_cubes\u001b[0m \u001b[0;34m==\u001b[0m \u001b[0;36m1\u001b[0m\u001b[0;34m:\u001b[0m\u001b[0;34m\u001b[0m\u001b[0m\n",
      "\u001b[0;32m/home/ph290/anaconda2/lib/python2.7/site-packages/iris/_concatenate.pyc\u001b[0m in \u001b[0;36mconcatenate\u001b[0;34m(cubes, error_on_mismatch, check_aux_coords)\u001b[0m\n\u001b[1;32m    270\u001b[0m         \u001b[0;32mfor\u001b[0m \u001b[0mproto_cube\u001b[0m \u001b[0;32min\u001b[0m \u001b[0mproto_cubes\u001b[0m\u001b[0;34m:\u001b[0m\u001b[0;34m\u001b[0m\u001b[0m\n\u001b[1;32m    271\u001b[0m             registered = proto_cube.register(cube, axis, error_on_mismatch,\n\u001b[0;32m--> 272\u001b[0;31m                                              check_aux_coords)\n\u001b[0m\u001b[1;32m    273\u001b[0m             \u001b[0;32mif\u001b[0m \u001b[0mregistered\u001b[0m\u001b[0;34m:\u001b[0m\u001b[0;34m\u001b[0m\u001b[0m\n\u001b[1;32m    274\u001b[0m                 \u001b[0maxis\u001b[0m \u001b[0;34m=\u001b[0m \u001b[0mproto_cube\u001b[0m\u001b[0;34m.\u001b[0m\u001b[0maxis\u001b[0m\u001b[0;34m\u001b[0m\u001b[0m\n",
      "\u001b[0;32m/home/ph290/anaconda2/lib/python2.7/site-packages/iris/_concatenate.pyc\u001b[0m in \u001b[0;36mregister\u001b[0;34m(self, cube, axis, error_on_mismatch, check_aux_coords)\u001b[0m\n\u001b[1;32m    716\u001b[0m         \u001b[0;31m# Check for compatible cube signatures.\u001b[0m\u001b[0;34m\u001b[0m\u001b[0;34m\u001b[0m\u001b[0m\n\u001b[1;32m    717\u001b[0m         \u001b[0mcube_signature\u001b[0m \u001b[0;34m=\u001b[0m \u001b[0m_CubeSignature\u001b[0m\u001b[0;34m(\u001b[0m\u001b[0mcube\u001b[0m\u001b[0;34m)\u001b[0m\u001b[0;34m\u001b[0m\u001b[0m\n\u001b[0;32m--> 718\u001b[0;31m         \u001b[0mmatch\u001b[0m \u001b[0;34m=\u001b[0m \u001b[0mself\u001b[0m\u001b[0;34m.\u001b[0m\u001b[0m_cube_signature\u001b[0m\u001b[0;34m.\u001b[0m\u001b[0mmatch\u001b[0m\u001b[0;34m(\u001b[0m\u001b[0mcube_signature\u001b[0m\u001b[0;34m,\u001b[0m \u001b[0merror_on_mismatch\u001b[0m\u001b[0;34m)\u001b[0m\u001b[0;34m\u001b[0m\u001b[0m\n\u001b[0m\u001b[1;32m    719\u001b[0m \u001b[0;34m\u001b[0m\u001b[0m\n\u001b[1;32m    720\u001b[0m         \u001b[0;31m# Check for compatible coordinate signatures.\u001b[0m\u001b[0;34m\u001b[0m\u001b[0;34m\u001b[0m\u001b[0m\n",
      "\u001b[0;32m/home/ph290/anaconda2/lib/python2.7/site-packages/iris/_concatenate.pyc\u001b[0m in \u001b[0;36mmatch\u001b[0;34m(self, other, error_on_mismatch)\u001b[0m\n\u001b[1;32m    474\u001b[0m         \u001b[0mmatch\u001b[0m \u001b[0;34m=\u001b[0m \u001b[0;32mnot\u001b[0m \u001b[0mbool\u001b[0m\u001b[0;34m(\u001b[0m\u001b[0mmsgs\u001b[0m\u001b[0;34m)\u001b[0m\u001b[0;34m\u001b[0m\u001b[0m\n\u001b[1;32m    475\u001b[0m         \u001b[0;32mif\u001b[0m \u001b[0merror_on_mismatch\u001b[0m \u001b[0;32mand\u001b[0m \u001b[0;32mnot\u001b[0m \u001b[0mmatch\u001b[0m\u001b[0;34m:\u001b[0m\u001b[0;34m\u001b[0m\u001b[0m\n\u001b[0;32m--> 476\u001b[0;31m             \u001b[0;32mraise\u001b[0m \u001b[0miris\u001b[0m\u001b[0;34m.\u001b[0m\u001b[0mexceptions\u001b[0m\u001b[0;34m.\u001b[0m\u001b[0mConcatenateError\u001b[0m\u001b[0;34m(\u001b[0m\u001b[0mmsgs\u001b[0m\u001b[0;34m)\u001b[0m\u001b[0;34m\u001b[0m\u001b[0m\n\u001b[0m\u001b[1;32m    477\u001b[0m         \u001b[0;32mreturn\u001b[0m \u001b[0mmatch\u001b[0m\u001b[0;34m\u001b[0m\u001b[0m\n\u001b[1;32m    478\u001b[0m \u001b[0;34m\u001b[0m\u001b[0m\n",
      "\u001b[0;31mConcatenateError\u001b[0m: failed to concatenate into a single cube.\n  Cube metadata differs for phenomenon: sea_surface_temperature"
     ]
    }
   ],
   "source": [
    "# def my_callback(cube, field,files_tmp):\n",
    "#     # there are some bad attributes in the NetCDF files which make the data incompatible for merging.\n",
    "#     cube.attributes.pop('time_coverage_end')\n",
    "#     cube.attributes.pop('date_issued')\n",
    "#     cube.attributes.pop('time_coverage_start')\n",
    "\n",
    "\n",
    "# directory = '/data/BatCaveNAS/ph290/obs/crw_sst/'\n",
    "# files = glob.glob(directory+'coraltemp_v1.0_*.nc')\n",
    "# cubes = iris.load(files,'sea_surface_temperature',callback=my_callback)\n",
    "# # import irisexperimental\n",
    "# # import iris.experimental.equalise_cubes\n",
    "# # import \n",
    "# # iris.util.unify_time_units(cubes)\n",
    "# # iris.experimental.equalise_cubes.equalise_attributes(cubes)\n",
    "# cube = cubes.concatenate_cube()\n",
    "# # cube = iris.load_cube(files[0],'sea_surface_temperature')\n",
    "# try:\n",
    "#     iris.coord_categorisation.add_year(cube, 'time', name='year')\n",
    "#     iris.coord_categorisation.add_month(cube, 'time', name='month')\n",
    "#     iris.coord_categorisation.add_month_number(cube, 'time', name='month_number')\n",
    "#     iris.coord_categorisation.add_day_of_month(cube, 'time', name='day_of_month')\n",
    "# except:\n",
    "#     pass\n",
    "    \n",
    "# # print cubes[0].coord('time')\n",
    "# print cube.coord('day_of_month').points"
   ]
  },
  {
   "cell_type": "code",
   "execution_count": null,
   "metadata": {},
   "outputs": [],
   "source": [
    "print cube"
   ]
  },
  {
   "cell_type": "markdown",
   "metadata": {},
   "source": [
    "# Calculate DHW"
   ]
  },
  {
   "cell_type": "code",
   "execution_count": 57,
   "metadata": {},
   "outputs": [
    {
     "name": "stdout",
     "output_type": "stream",
     "text": [
      "NOTE THIS SHOULD BE USING NIGHT TIME TEMPERATURES\n",
      "(3, 3600, 7200)\n"
     ]
    },
    {
     "name": "stderr",
     "output_type": "stream",
     "text": [
      "/home/ph290/anaconda2/lib/python2.7/site-packages/ipykernel_launcher.py:19: RuntimeWarning: invalid value encountered in divide\n",
      "/home/ph290/anaconda2/lib/python2.7/site-packages/ipykernel_launcher.py:21: RuntimeWarning: invalid value encountered in divide\n",
      "/home/ph290/anaconda2/lib/python2.7/site-packages/ipykernel_launcher.py:25: RuntimeWarning: invalid value encountered in sqrt\n",
      "/home/ph290/anaconda2/lib/python2.7/site-packages/ipykernel_launcher.py:30: RuntimeWarning: invalid value encountered in divide\n"
     ]
    },
    {
     "ename": "IndexError",
     "evalue": "Cannot index with zero length slice.",
     "output_type": "error",
     "traceback": [
      "\u001b[0;31m---------------------------------------------------------------------------\u001b[0m",
      "\u001b[0;31mIndexError\u001b[0m                                Traceback (most recent call last)",
      "\u001b[0;32m<ipython-input-57-0bec618efe4c>\u001b[0m in \u001b[0;36m<module>\u001b[0;34m()\u001b[0m\n\u001b[1;32m      2\u001b[0m \u001b[0myears_over_which_to_calculate_dhw\u001b[0m \u001b[0;34m=\u001b[0m \u001b[0;34m[\u001b[0m\u001b[0;36m2012\u001b[0m\u001b[0;34m,\u001b[0m\u001b[0;36m2019\u001b[0m\u001b[0;34m]\u001b[0m\u001b[0;34m\u001b[0m\u001b[0m\n\u001b[1;32m      3\u001b[0m \u001b[0mmmm_climatology\u001b[0m \u001b[0;34m=\u001b[0m \u001b[0mmmm_skirving\u001b[0m\u001b[0;34m(\u001b[0m\u001b[0mcube\u001b[0m\u001b[0;34m)\u001b[0m\u001b[0;34m\u001b[0m\u001b[0m\n\u001b[0;32m----> 4\u001b[0;31m \u001b[0mdhm_cube\u001b[0m \u001b[0;34m=\u001b[0m \u001b[0mdhw\u001b[0m\u001b[0;34m(\u001b[0m\u001b[0mcube\u001b[0m\u001b[0;34m,\u001b[0m\u001b[0mmmm_climatology\u001b[0m\u001b[0;34m,\u001b[0m\u001b[0myears_over_which_to_calculate_dhw\u001b[0m\u001b[0;34m)\u001b[0m\u001b[0;34m\u001b[0m\u001b[0m\n\u001b[0m\u001b[1;32m      5\u001b[0m \u001b[0mlon_west\u001b[0m \u001b[0;34m=\u001b[0m \u001b[0;36m142.0\u001b[0m\u001b[0;34m\u001b[0m\u001b[0m\n\u001b[1;32m      6\u001b[0m \u001b[0mlon_east\u001b[0m \u001b[0;34m=\u001b[0m \u001b[0;36m157.0\u001b[0m\u001b[0;34m\u001b[0m\u001b[0m\n",
      "\u001b[0;32m<ipython-input-56-dbd61585e38b>\u001b[0m in \u001b[0;36mdhw\u001b[0;34m(cube, mmm_climatology, years_over_which_to_calculate_dhw)\u001b[0m\n\u001b[1;32m      2\u001b[0m     \u001b[0mcube_years\u001b[0m \u001b[0;34m=\u001b[0m \u001b[0mcube\u001b[0m\u001b[0;34m.\u001b[0m\u001b[0mcoord\u001b[0m\u001b[0;34m(\u001b[0m\u001b[0;34m'year'\u001b[0m\u001b[0;34m)\u001b[0m\u001b[0;34m.\u001b[0m\u001b[0mpoints\u001b[0m\u001b[0;34m\u001b[0m\u001b[0m\n\u001b[1;32m      3\u001b[0m     \u001b[0;31m#note this is to be uef with daily data...\u001b[0m\u001b[0;34m\u001b[0m\u001b[0;34m\u001b[0m\u001b[0m\n\u001b[0;32m----> 4\u001b[0;31m     \u001b[0mmain_cube\u001b[0m \u001b[0;34m=\u001b[0m \u001b[0mcube\u001b[0m\u001b[0;34m[\u001b[0m\u001b[0mnp\u001b[0m\u001b[0;34m.\u001b[0m\u001b[0mwhere\u001b[0m\u001b[0;34m(\u001b[0m\u001b[0;34m(\u001b[0m\u001b[0mcube_years\u001b[0m \u001b[0;34m>\u001b[0m \u001b[0myears_over_which_to_calculate_dhw\u001b[0m\u001b[0;34m[\u001b[0m\u001b[0;36m0\u001b[0m\u001b[0;34m]\u001b[0m\u001b[0;34m)\u001b[0m \u001b[0;34m&\u001b[0m \u001b[0;34m(\u001b[0m\u001b[0mcube_years\u001b[0m \u001b[0;34m<\u001b[0m \u001b[0myears_over_which_to_calculate_dhw\u001b[0m\u001b[0;34m[\u001b[0m\u001b[0;36m1\u001b[0m\u001b[0;34m]\u001b[0m\u001b[0;34m)\u001b[0m\u001b[0;34m)\u001b[0m\u001b[0;34m]\u001b[0m\u001b[0;34m\u001b[0m\u001b[0m\n\u001b[0m\u001b[1;32m      5\u001b[0m     \u001b[0;31m#subtract the monthly mean climatology from the rest of the data\u001b[0m\u001b[0;34m\u001b[0m\u001b[0;34m\u001b[0m\u001b[0m\n\u001b[1;32m      6\u001b[0m     \u001b[0mmain_cube\u001b[0m \u001b[0;34m-=\u001b[0m \u001b[0mmmm_climatology\u001b[0m\u001b[0;34m\u001b[0m\u001b[0m\n",
      "\u001b[0;32m/home/ph290/anaconda2/lib/python2.7/site-packages/iris/cube.pyc\u001b[0m in \u001b[0;36m__getitem__\u001b[0;34m(self, keys)\u001b[0m\n\u001b[1;32m   2145\u001b[0m         \u001b[0;31m# Index with the keys, using orthogonal slicing.\u001b[0m\u001b[0;34m\u001b[0m\u001b[0;34m\u001b[0m\u001b[0m\n\u001b[1;32m   2146\u001b[0m         dimension_mapping, data = iris.util._slice_data_with_keys(\n\u001b[0;32m-> 2147\u001b[0;31m             cube_data, keys)\n\u001b[0m\u001b[1;32m   2148\u001b[0m \u001b[0;34m\u001b[0m\u001b[0m\n\u001b[1;32m   2149\u001b[0m         \u001b[0;31m# We don't want a view of the data, so take a copy of it.\u001b[0m\u001b[0;34m\u001b[0m\u001b[0;34m\u001b[0m\u001b[0m\n",
      "\u001b[0;32m/home/ph290/anaconda2/lib/python2.7/site-packages/iris/util.pyc\u001b[0m in \u001b[0;36m_slice_data_with_keys\u001b[0;34m(data, keys)\u001b[0m\n\u001b[1;32m    741\u001b[0m         \u001b[0;32mif\u001b[0m \u001b[0mdata\u001b[0m\u001b[0;34m.\u001b[0m\u001b[0mndim\u001b[0m \u001b[0;34m>\u001b[0m \u001b[0;36m0\u001b[0m \u001b[0;32mand\u001b[0m \u001b[0mmin\u001b[0m\u001b[0;34m(\u001b[0m\u001b[0mdata\u001b[0m\u001b[0;34m.\u001b[0m\u001b[0mshape\u001b[0m\u001b[0;34m)\u001b[0m \u001b[0;34m<\u001b[0m \u001b[0;36m1\u001b[0m\u001b[0;34m:\u001b[0m\u001b[0;34m\u001b[0m\u001b[0m\n\u001b[1;32m    742\u001b[0m             \u001b[0;31m# Disallow slicings where a dimension has no points, like \"[5:5]\".\u001b[0m\u001b[0;34m\u001b[0m\u001b[0;34m\u001b[0m\u001b[0m\n\u001b[0;32m--> 743\u001b[0;31m             \u001b[0;32mraise\u001b[0m \u001b[0mIndexError\u001b[0m\u001b[0;34m(\u001b[0m\u001b[0;34m'Cannot index with zero length slice.'\u001b[0m\u001b[0;34m)\u001b[0m\u001b[0;34m\u001b[0m\u001b[0m\n\u001b[0m\u001b[1;32m    744\u001b[0m \u001b[0;34m\u001b[0m\u001b[0m\n\u001b[1;32m    745\u001b[0m     \u001b[0;32mreturn\u001b[0m \u001b[0mdims_mapping\u001b[0m\u001b[0;34m,\u001b[0m \u001b[0mdata\u001b[0m\u001b[0;34m\u001b[0m\u001b[0m\n",
      "\u001b[0;31mIndexError\u001b[0m: Cannot index with zero length slice."
     ]
    }
   ],
   "source": [
    "\n",
    "years_over_which_to_calculate_dhw = [2012,2019]\n",
    "mmm_climatology = mmm_skirving(cube)\n",
    "dhm_cube = dhw(cube,mmm_climatology,years_over_which_to_calculate_dhw)\n",
    "lon_west = 142.0\n",
    "lon_east = 157.0\n",
    "lat_south = -30.0\n",
    "lat_north = -10.0\n",
    "dhm_cube_gbr = extract_region(dhm_cube,lon_west,lon_east,lat_south,lat_north)\n",
    "dhm_cube_gbr"
   ]
  },
  {
   "cell_type": "code",
   "execution_count": null,
   "metadata": {},
   "outputs": [],
   "source": [
    "def asb(cube,threshold):\n",
    "    dhm_cube_gbr_tmp = cube.copy()\n",
    "    dhm_cube_gbr_tmp_data = dhm_cube_gbr_tmp.data\n",
    "    dhm_cube_gbr_tmp_data[np.where(dhm_cube_gbr_tmp_data <= threshold)] = 0.0\n",
    "    dhm_cube_gbr_tmp_data[np.where(dhm_cube_gbr_tmp_data > threshold)] = 1.0\n",
    "    dhm_cube_gbr_tmp.data = dhm_cube_gbr_tmp_data\n",
    "    dhm_cube_gbr_asb = dhm_cube_gbr.copy()\n",
    "    dhm_cube_gbr_asb = dhm_cube_gbr_tmp.aggregated_by(['year'], iris.analysis.SUM)\n",
    "    dhm_cube_gbr_asb_tmp = dhm_cube_gbr_asb.data\n",
    "    dhm_cube_gbr_asb_tmp[np.where(dhm_cube_gbr_asb_tmp > 1.0)] = 1.0\n",
    "    dhm_cube_gbr_asb.data = dhm_cube_gbr_asb_tmp\n",
    "    return dhm_cube_gbr_asb\n",
    "    \n",
    "dhm_cube_gbr = extract_region(dhm_cube_gbr,lon_west,lon_east,lat_south,lat_north)\n",
    "dhm_cube_gbr_asb = asb(dhm_cube_gbr,2.0)\n",
    "dhm_cube_gbr_asb_area_avg = area_avg(dhm_cube_gbr_asb)\n",
    "dhw_avg = area_avg(dhm_cube_gbr.aggregated_by(['year'], iris.analysis.MEAN))"
   ]
  },
  {
   "cell_type": "code",
   "execution_count": null,
   "metadata": {},
   "outputs": [],
   "source": [
    "plt.figure(num=None, figsize=(12, 12), dpi=80, facecolor='w', edgecolor='k')\n",
    "\n",
    "\n",
    "for model in models:\n",
    "#     print cube_dict[model]['asb'].coord('year').points\n",
    "#     y = cube_dict[model]['asb_avg'].data\n",
    "#     y[np.where(y > 0.0)] = 1\n",
    "    plt.scatter(dhm_cube_gbr_asb_area_avg.coord('year').points,dhm_cube_gbr_asb_area_avg.data,alpha=0.5,color=model_dict[model]['color'])\n",
    "\n",
    "# plt.ylim([-0.1,1.1])\n",
    "plt.legend()\n",
    "plt.show()"
   ]
  },
  {
   "cell_type": "code",
   "execution_count": null,
   "metadata": {},
   "outputs": [],
   "source": [
    "plt.figure(num=None, figsize=(8, 8), dpi=80, facecolor='w', edgecolor='k')\n",
    "\n",
    "# for model in models:\n",
    "#     qplt.plot(cube_dict[model]['dhm_cube_Spillman_2013_avg'],lw = 2,alpha=0.5,color=model_dict[model]['color'])\n",
    "\n",
    "    \n",
    "for model in models:\n",
    "    qplt.plot(dhw_avg,lw=2,color=model_dict[model]['color'],label = model,alpha=0.5)\n",
    "\n",
    "\n",
    "# plt.ylim([0,0.5])\n",
    "plt.legend()"
   ]
  },
  {
   "cell_type": "code",
   "execution_count": null,
   "metadata": {},
   "outputs": [],
   "source": []
  },
  {
   "cell_type": "code",
   "execution_count": null,
   "metadata": {},
   "outputs": [],
   "source": []
  },
  {
   "cell_type": "code",
   "execution_count": null,
   "metadata": {},
   "outputs": [],
   "source": []
  },
  {
   "cell_type": "code",
   "execution_count": null,
   "metadata": {},
   "outputs": [],
   "source": []
  }
 ],
 "metadata": {
  "kernelspec": {
   "display_name": "Python 2",
   "language": "python",
   "name": "python2"
  },
  "language_info": {
   "codemirror_mode": {
    "name": "ipython",
    "version": 2
   },
   "file_extension": ".py",
   "mimetype": "text/x-python",
   "name": "python",
   "nbconvert_exporter": "python",
   "pygments_lexer": "ipython2",
   "version": "2.7.15"
  }
 },
 "nbformat": 4,
 "nbformat_minor": 2
}
