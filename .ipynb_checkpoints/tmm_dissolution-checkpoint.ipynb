{
 "cells": [
  {
   "cell_type": "code",
   "execution_count": 5,
   "metadata": {},
   "outputs": [],
   "source": [
    "import iris\n",
    "import matplotlib.pyplot as plt\n",
    "import iris.quickplot as qplt\n",
    "import glob\n",
    "import os\n",
    "import numpy as np\n",
    "import iris.coord_categorisation\n",
    "import pandas as pd\n",
    "import matplotlib\n",
    "import cartopy.crs as ccrs\n",
    "import cartopy.feature as cfeature\n",
    "import matplotlib.gridspec as gridspec"
   ]
  },
  {
   "cell_type": "markdown",
   "metadata": {},
   "source": [
    "useful functions "
   ]
  },
  {
   "cell_type": "code",
   "execution_count": 6,
   "metadata": {},
   "outputs": [],
   "source": [
    "\n",
    "def mask_where_zero(cube):\n",
    "    cube.data = np.ma.masked_array(cube.data)\n",
    "    cube.data.fill_value= 9.99e9\n",
    "    cube.data[np.where(cube.data == 0.0)] = 9.99e9\n",
    "    cube.data = np.ma.masked_where(cube.data == 9.99e9,cube.data)\n",
    "    return cube\n",
    "\n",
    "def extract_region(cube,lon_west,lon_east,lat_south,lat_north):\n",
    "    cube_region_tmp = cube.intersection(longitude=(lon_west, lon_east))\n",
    "    cube_region = cube_region_tmp.intersection(latitude=(lat_south, lat_north))\n",
    "    return cube_region\n",
    "\n",
    "\n",
    "def area_sum(cube):\n",
    "#     first_dim = cube.coord(dimensions=1).long_name #latitude\n",
    "#     second_dim = cube.coord(dimensions=2).long_name #longitude\n",
    "    try:\n",
    "        cube.coord('latitude').guess_bounds()\n",
    "    except:\n",
    "        pass\n",
    "    try:\n",
    "        cube.coord('longitude').guess_bounds()\n",
    "    except:\n",
    "        pass\n",
    "    grid_areas = iris.analysis.cartography.area_weights(cube)\n",
    "    area_avged_cube = cube.collapsed(['longitude', 'latitude'], iris.analysis.SUM, weights=grid_areas)\n",
    "    return area_avged_cube\n",
    "\n",
    "def area_avg(cube):\n",
    "#     first_dim = cube.coord(dimensions=1).long_name #latitude\n",
    "#     second_dim = cube.coord(dimensions=2).long_name #longitude\n",
    "    try:\n",
    "        cube.coord('latitude').guess_bounds()\n",
    "    except:\n",
    "        pass\n",
    "    try:\n",
    "        cube.coord('longitude').guess_bounds()\n",
    "    except:\n",
    "        pass\n",
    "    grid_areas = iris.analysis.cartography.area_weights(cube)\n",
    "    area_avged_cube = cube.collapsed(['longitude', 'latitude'], iris.analysis.MEAN, weights=grid_areas)\n",
    "    return area_avged_cube\n",
    "\n",
    "def area_sum2(cube,lon_west,lon_east,lat_south,lat_north):\n",
    "    cube = extract_region(cube,lon_west,lon_east,lat_south,lat_north)\n",
    "#     first_dim = cube.coord(dimensions=1).long_name #latitude\n",
    "#     second_dim = cube.coord(dimensions=2).long_name #longitude\n",
    "    try:\n",
    "        cube.coord('latitude').guess_bounds()\n",
    "    except:\n",
    "        pass\n",
    "    try:\n",
    "        cube.coord('longitude').guess_bounds()\n",
    "    except:\n",
    "        pass\n",
    "    grid_areas = iris.analysis.cartography.area_weights(cube)\n",
    "    area_avged_cube = cube.collapsed(['longitude', 'latitude'], iris.analysis.SUM, weights=grid_areas)\n",
    "    return area_avged_cube\n",
    "\n",
    "def area_avg2(cube,lon_west,lon_east,lat_south,lat_north):\n",
    "    cube = extract_region(cube,lon_west,lon_east,lat_south,lat_north)\n",
    "#     first_dim = cube.coord(dimensions=1).long_name #latitude\n",
    "#     second_dim = cube.coord(dimensions=2).long_name #longitude\n",
    "    try:\n",
    "        cube.coord('latitude').guess_bounds()\n",
    "    except:\n",
    "        pass\n",
    "    try:\n",
    "        cube.coord('longitude').guess_bounds()\n",
    "    except:\n",
    "        pass\n",
    "    grid_areas = iris.analysis.cartography.area_weights(cube)\n",
    "    area_avged_cube = cube.collapsed(['longitude', 'latitude'], iris.analysis.MEAN, weights=grid_areas)\n",
    "    return area_avged_cube\n",
    "\n",
    "def avg_years(cube,start_yr,end_yr):\n",
    "    try:\n",
    "        iris.coord_categorisation.add_year(cube, 'time', name='year')\n",
    "    except:\n",
    "        pass\n",
    "    loc = np.where((cube.coord('year').points >= start_yr) & (cube.coord('year').points <= end_yr))\n",
    "    if len(loc[0]) > 0:\n",
    "        return cube[loc].collapsed('time', iris.analysis.MEAN)\n",
    "    else:\n",
    "        cube=cube.collapsed('time', iris.analysis.MEAN)\n",
    "        cube.data[:] = np.nan\n",
    "        return cube\n",
    "\n",
    "                   \n",
    "def return_years(cube):\n",
    "    try:\n",
    "        iris.coord_categorisation.add_year(cube, 'time', name='year')\n",
    "    except:\n",
    "        pass\n",
    "    return cube.coord('year').points\n",
    "\n",
    "\n",
    "\n"
   ]
  },
  {
   "cell_type": "markdown",
   "metadata": {},
   "source": [
    "TMM results"
   ]
  },
  {
   "cell_type": "code",
   "execution_count": 7,
   "metadata": {},
   "outputs": [
    {
     "name": "stderr",
     "output_type": "stream",
     "text": [
      "/home/ph290/anaconda2/lib/python2.7/site-packages/iris/fileformats/_pyke_rules/compiled_krb/fc_rules_cf_fc.py:1935: UserWarning: Ignoring netCDF variable u'TCO2' invalid units u'micro-mol kg-1'\n",
      "  warnings.warn(msg.encode('ascii', errors='backslashreplace'))\n",
      "/home/ph290/anaconda2/lib/python2.7/site-packages/iris/fileformats/_pyke_rules/compiled_krb/fc_rules_cf_fc.py:2030: UserWarning: Gracefully filling 'lat' dimension coordinate masked points\n",
      "  warnings.warn(msg.format(str(cf_coord_var.cf_name)))\n",
      "/home/ph290/anaconda2/lib/python2.7/site-packages/iris/fileformats/_pyke_rules/compiled_krb/fc_rules_cf_fc.py:2030: UserWarning: Gracefully filling 'lon' dimension coordinate masked points\n",
      "  warnings.warn(msg.format(str(cf_coord_var.cf_name)))\n",
      "/home/ph290/anaconda2/lib/python2.7/site-packages/iris/fileformats/_pyke_rules/compiled_krb/fc_rules_cf_fc.py:1935: UserWarning: Ignoring netCDF variable u'Input_mean' invalid units u'micro-mol kg-1'\n",
      "  warnings.warn(msg.encode('ascii', errors='backslashreplace'))\n",
      "/home/ph290/anaconda2/lib/python2.7/site-packages/iris/fileformats/_pyke_rules/compiled_krb/fc_rules_cf_fc.py:1935: UserWarning: Ignoring netCDF variable u'Input_std' invalid units u'micro-mol kg-1'\n",
      "  warnings.warn(msg.encode('ascii', errors='backslashreplace'))\n",
      "/home/ph290/anaconda2/lib/python2.7/site-packages/iris/fileformats/_pyke_rules/compiled_krb/fc_rules_cf_fc.py:1935: UserWarning: Ignoring netCDF variable u'TCO2_error' invalid units u'micro-mol kg-1'\n",
      "  warnings.warn(msg.encode('ascii', errors='backslashreplace'))\n",
      "/home/ph290/anaconda2/lib/python2.7/site-packages/iris/fileformats/_pyke_rules/compiled_krb/fc_rules_cf_fc.py:1935: UserWarning: Ignoring netCDF variable u'TAlk_error' invalid units u'micro-mol kg-1'\n",
      "  warnings.warn(msg.encode('ascii', errors='backslashreplace'))\n",
      "/home/ph290/anaconda2/lib/python2.7/site-packages/iris/fileformats/_pyke_rules/compiled_krb/fc_rules_cf_fc.py:1935: UserWarning: Ignoring netCDF variable u'TAlk' invalid units u'micro-mol kg-1'\n",
      "  warnings.warn(msg.encode('ascii', errors='backslashreplace'))\n"
     ]
    }
   ],
   "source": [
    "glodap_dic_file ='/data/NAS-ph290/ph290/observations/GLODAPv2_Mapped_Climatologies/GLODAPv2.2016b_MappedClimatologies/GLODAPv2.2016b.TCO2.nc'\n",
    "glodap_talk_file ='/data/NAS-ph290/ph290/observations/GLODAPv2_Mapped_Climatologies/GLODAPv2.2016b_MappedClimatologies/GLODAPv2.2016b.TAlk.nc'\n",
    "glodap_dic = iris.load_cube(glodap_dic_file,'moles of dissolved inorganic carbon per unit mass in seawater')/1026.0\n",
    "glodap_talk = iris.load_cube(glodap_talk_file,'seawater alkalinity expressed as mole equivalent per unit mass')/1026.0\n",
    "\n",
    "glodap_depths = [   0.,   10.,   20.,   30.,   50.,   75.,  100.,  125.,  150.,        200.,  250.,  300.,  400.,  500.,  600.,  700.,  800.,  900.,       1000., 1100., 1200., 1300., 1400., 1500., 1750., 2000., 2500.,       3000., 3500., 4000., 4500., 5000., 5500.]"
   ]
  },
  {
   "cell_type": "code",
   "execution_count": 16,
   "metadata": {},
   "outputs": [],
   "source": [
    "model_depths = [50, 120, 220, 360, 550, 790, 1080, 1420, 1810, 2250, 2740, 3280, 3870, 4510, 5200]\n",
    "\n",
    "# directory_deep = '/data/BatCaveNAS/ph290/tmm/paul_deep_dissolution/'\n",
    "directory_deep = '/data/BatCaveNAS/ph290/tmm/aimee_deep_dissolution/'\n",
    "alk_files_deep_aimee = glob.glob(directory_deep+'ALK_*.nc')\n",
    "dic_files_deep_aimee = glob.glob(directory_deep+'DIC_*.nc')\n",
    "        \n",
    "directory_deep = '/data/BatCaveNAS/ph290/tmm/paultest2/'\n",
    "alk_files_deep = glob.glob(directory_deep+'ALK_*.nc')\n",
    "dic_files_deep = glob.glob(directory_deep+'DIC_*.nc')\n",
    "\n",
    "directory_deep2 = '/data/BatCaveNAS/ph290/tmm/paul_test/'\n",
    "alk_files_deep2 = glob.glob(directory_deep2+'ALK_*.nc')\n",
    "dic_files_deep2 = glob.glob(directory_deep2+'DIC_*.nc')\n",
    "\n",
    "directory_shallow ='/data/BatCaveNAS/ph290/tmm/paul_shallow_dissolution/'\n",
    "alk_files_shallow = glob.glob(directory_shallow+'ALK_*.nc')\n",
    "dic_files_shallow = glob.glob(directory_shallow+'DIC_*.nc')"
   ]
  },
  {
   "cell_type": "code",
   "execution_count": 17,
   "metadata": {},
   "outputs": [
    {
     "data": {
      "image/png": "[encoded data removed]",
      "text/plain": [
       "<Figure size 600x450 with 1 Axes>"
      ]
     },
     "metadata": {
      "needs_background": "light"
     },
     "output_type": "display_data"
    }
   ],
   "source": [
    "plt.figure(num=None, figsize=(4, 3), dpi=150, facecolor='none', edgecolor='none')\n",
    "\n",
    "# for i in range(len(alk_files_deep)):\n",
    "#     cube = iris.load_cube(alk_files_deep[i])\n",
    "#     plt.plot(area_avg(cube).data - area_avg(cube).data[0],model_depths,'r',lw=0.5)\n",
    "    \n",
    "# for i in range(len(alk_files_shallow)):\n",
    "#     cube = iris.load_cube(alk_files_shallow[i])\n",
    "#     plt.plot(area_avg(cube).data - area_avg(cube).data[0],model_depths,'b',lw=0.5)\n",
    "\n",
    "\n",
    "# plt.plot(area_avg(glodap_talk).data - area_avg(glodap_talk).data[0],glodap_depths,'k')\n",
    "\n",
    "for i in range(len(alk_files_deep)):\n",
    "    cube = iris.load_cube(alk_files_deep[i])\n",
    "    plt.plot(area_avg(cube).data,model_depths,'r',lw=0.5)\n",
    "\n",
    "for i in range(len(alk_files_deep_aimee)):\n",
    "    cube = iris.load_cube(alk_files_deep_aimee[i])\n",
    "    plt.plot(area_avg(cube).data,model_depths,'r',lw=0.5)\n",
    "    \n",
    "for i in range(len(alk_files_deep2)):\n",
    "    cube = iris.load_cube(alk_files_deep2[i])\n",
    "    plt.plot(area_avg(cube).data,model_depths,'g',lw=0.5)\n",
    "    \n",
    "for i in range(len(alk_files_shallow)):\n",
    "    cube = iris.load_cube(alk_files_shallow[i])\n",
    "    plt.plot(area_avg(cube).data,model_depths,'b',lw=0.5)\n",
    "\n",
    "\n",
    "plt.plot(area_avg(glodap_talk).data,glodap_depths,'k')\n",
    "\n",
    "plt.title('Glodap (black), aimee run (red)\\n, paul shallow + deep dissolution (blue)')\n",
    "\n",
    "plt.ylim([5500,0])\n",
    "\n",
    "plt.savefig('/home/ph290/Documents/figures/aimee.png')"
   ]
  },
  {
   "cell_type": "code",
   "execution_count": 18,
   "metadata": {},
   "outputs": [
    {
     "data": {
      "text/plain": [
       "33"
      ]
     },
     "execution_count": 18,
     "metadata": {},
     "output_type": "execute_result"
    }
   ],
   "source": [
    "area_avg(glodap_talk)\n",
    "len(glodap_depths)"
   ]
  },
  {
   "cell_type": "code",
   "execution_count": 4,
   "metadata": {},
   "outputs": [
    {
     "ename": "NameError",
     "evalue": "name 'plt' is not defined",
     "output_type": "error",
     "traceback": [
      "\u001b[0;31m---------------------------------------------------------------------------\u001b[0m",
      "\u001b[0;31mNameError\u001b[0m                                 Traceback (most recent call last)",
      "\u001b[0;32m<ipython-input-4-83926f6a6c58>\u001b[0m in \u001b[0;36m<module>\u001b[0;34m()\u001b[0m\n\u001b[1;32m      9\u001b[0m \u001b[0;34m\u001b[0m\u001b[0m\n\u001b[1;32m     10\u001b[0m \u001b[0;34m\u001b[0m\u001b[0m\n\u001b[0;32m---> 11\u001b[0;31m \u001b[0mplt\u001b[0m\u001b[0;34m.\u001b[0m\u001b[0mfigure\u001b[0m\u001b[0;34m(\u001b[0m\u001b[0mnum\u001b[0m\u001b[0;34m=\u001b[0m\u001b[0mNone\u001b[0m\u001b[0;34m,\u001b[0m \u001b[0mfigsize\u001b[0m\u001b[0;34m=\u001b[0m\u001b[0;34m(\u001b[0m\u001b[0;36m4\u001b[0m\u001b[0;34m,\u001b[0m \u001b[0;36m3\u001b[0m\u001b[0;34m)\u001b[0m\u001b[0;34m,\u001b[0m \u001b[0mdpi\u001b[0m\u001b[0;34m=\u001b[0m\u001b[0;36m150\u001b[0m\u001b[0;34m,\u001b[0m \u001b[0mfacecolor\u001b[0m\u001b[0;34m=\u001b[0m\u001b[0;34m'none'\u001b[0m\u001b[0;34m,\u001b[0m \u001b[0medgecolor\u001b[0m\u001b[0;34m=\u001b[0m\u001b[0;34m'none'\u001b[0m\u001b[0;34m)\u001b[0m\u001b[0;34m\u001b[0m\u001b[0m\n\u001b[0m\u001b[1;32m     12\u001b[0m \u001b[0;34m\u001b[0m\u001b[0m\n\u001b[1;32m     13\u001b[0m \u001b[0;31m# for i in range(len(dic_files_deep)):\u001b[0m\u001b[0;34m\u001b[0m\u001b[0;34m\u001b[0m\u001b[0m\n",
      "\u001b[0;31mNameError\u001b[0m: name 'plt' is not defined"
     ]
    }
   ],
   "source": [
    "\n",
    "# for i in range(len(alk_files_deep)):\n",
    "#     cube = iris.load_cube(dic_files_deep[i])\n",
    "#     qplt.plot(area_avg(cube),'r')\n",
    "    \n",
    "# for i in range(len(alk_files_shallow)):\n",
    "#     cube = iris.load_cube(_files_shallow[i])\n",
    "#     qplt.plot(area_avg(cube),'b--')\n",
    "\n",
    "    \n",
    "plt.figure(num=None, figsize=(4, 3), dpi=150, facecolor='none', edgecolor='none')\n",
    "\n",
    "# for i in range(len(dic_files_deep)):\n",
    "#     cube = iris.load_cube(dic_files_deep[i])\n",
    "#     plt.plot(area_avg(cube).data - area_avg(cube).data[0],model_depths,'r',lw=0.5)\n",
    "    \n",
    "# for i in range(len(dic_files_shallow)):\n",
    "#     cube = iris.load_cube(dic_files_shallow[i])\n",
    "#     plt.plot(area_avg(cube).data - area_avg(cube).data[0],model_depths,'b--',lw=0.5)\n",
    "\n",
    "\n",
    "# plt.plot(area_avg(glodap_dic).data - area_avg(glodap_dic).data[0],glodap_depths,'k')\n",
    "  \n",
    "for i in range(len(dic_files_deep)):\n",
    "    cube = iris.load_cube(dic_files_deep[i])\n",
    "    plt.plot(area_avg(cube).data,model_depths,'r',lw=0.5)\n",
    "    \n",
    "for i in range(len(dic_files_shallow)):\n",
    "    cube = iris.load_cube(dic_files_shallow[i])\n",
    "    plt.plot(area_avg(cube).data,model_depths,'b--',lw=0.5)\n",
    "\n",
    "\n",
    "plt.plot(area_avg(glodap_dic).data,glodap_depths,'k')\n",
    "\n",
    "plt.title('Glodap (black), deep_dissolution (red)\\n, shallow + deep dissolution (blue)')\n",
    "\n",
    "\n",
    "\n",
    "plt.ylim([5500,0])"
   ]
  },
  {
   "cell_type": "code",
   "execution_count": null,
   "metadata": {},
   "outputs": [],
   "source": []
  }
 ],
 "metadata": {
  "kernelspec": {
   "display_name": "Python 2",
   "language": "python",
   "name": "python2"
  },
  "language_info": {
   "codemirror_mode": {
    "name": "ipython",
    "version": 2
   },
   "file_extension": ".py",
   "mimetype": "text/x-python",
   "name": "python",
   "nbconvert_exporter": "python",
   "pygments_lexer": "ipython2",
   "version": "2.7.15"
  }
 },
 "nbformat": 4,
 "nbformat_minor": 2
}
