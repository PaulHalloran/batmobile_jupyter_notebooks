{
 "cells": [
  {
   "cell_type": "code",
   "execution_count": 2,
   "metadata": {},
   "outputs": [],
   "source": [
    "import iris\n",
    "import numpy as np\n",
    "import glob\n",
    "import os\n",
    "import matplotlib.pyplot as plt\n",
    "import iris.quickplot as qplt\n",
    "import matplotlib as mpl\n",
    "import itertools\n",
    "import pandas as pd"
   ]
  },
  {
   "cell_type": "code",
   "execution_count": 3,
   "metadata": {},
   "outputs": [],
   "source": [
    "dir_vol = '/data/NAS-ph290/ph290/cmip5/volcello/'\n",
    "#volcello_fx_ACCESS1-0_historical_r0i0p0.nc\n",
    "dir_alk = '/data/BatCaveNAS/ph290/noc_talk/'\n",
    "#talk_Oyr_HadGEM2-ES_rcp85_r1i1p1_2006-2099.nc"
   ]
  },
  {
   "cell_type": "code",
   "execution_count": 4,
   "metadata": {},
   "outputs": [],
   "source": [
    "\n",
    "def model_names(directory,file_name_format,name_possition):\n",
    "        files = glob.glob(directory+file_name_format)\n",
    "        models_tmp = []\n",
    "        for file in files:\n",
    "                statinfo = os.stat(file)\n",
    "                if statinfo.st_size >= 1:\n",
    "                        models_tmp.append(file.split('/')[-1].split('_')[name_possition])\n",
    "                        models = np.unique(models_tmp)\n",
    "        return models\n"
   ]
  },
  {
   "cell_type": "markdown",
   "metadata": {},
   "source": [
    "\n",
    "due to a issue with how I've compiled stuff (hdf libraries), I had to do GLODAP on JASMIN like:\n",
    "cdo vertmean -fldmean -timmean -selvar,TAlk GLODAPv2.2016b.TAlk.nc GLODAPv2.2016b.TAlk_glob_mean.nc\n",
    "result in:\n",
    "/data/NAS-ph290/ph290/misc_data/GLODAPv2.2016b.TAlk_glob_mean.nc\n",
    "mean is (2332.27280205/1.0e3)*1.026\n",
    "GLODAP = mole equivalent per unit mass\n",
    "CMIP5 = mole_equivalent / (mol m-3))*1.026\n",
    "so glodap mean is 2.3929118949033\n"
   ]
  },
  {
   "cell_type": "code",
   "execution_count": 5,
   "metadata": {},
   "outputs": [],
   "source": [
    "m1 = model_names(dir_vol,'volcello_fx_*_historical_r0i0p0.nc',2)\n",
    "m2 = model_names(dir_alk,'talk_Oyr_*_rcp85_r1i1p1_*.nc',2)\n",
    "models = list(set(m1).intersection(m2))"
   ]
  },
  {
   "cell_type": "code",
   "execution_count": 6,
   "metadata": {},
   "outputs": [
    {
     "name": "stderr",
     "output_type": "stream",
     "text": [
      "/home/ph290/anaconda2/lib/python2.7/site-packages/iris/fileformats/_pyke_rules/compiled_krb/fc_rules_cf_fc.py:2030: UserWarning: Gracefully filling 'i' dimension coordinate masked points\n",
      "  warnings.warn(msg.format(str(cf_coord_var.cf_name)))\n",
      "/home/ph290/anaconda2/lib/python2.7/site-packages/iris/fileformats/_pyke_rules/compiled_krb/fc_rules_cf_fc.py:2030: UserWarning: Gracefully filling 'j' dimension coordinate masked points\n",
      "  warnings.warn(msg.format(str(cf_coord_var.cf_name)))\n",
      "/home/ph290/anaconda2/lib/python2.7/site-packages/iris/fileformats/_pyke_rules/compiled_krb/fc_rules_cf_fc.py:2030: UserWarning: Gracefully filling 'lev' dimension coordinate masked points\n",
      "  warnings.warn(msg.format(str(cf_coord_var.cf_name)))\n",
      "/home/ph290/anaconda2/lib/python2.7/site-packages/iris/fileformats/_pyke_rules/compiled_krb/fc_rules_cf_fc.py:2037: UserWarning: Gracefully filling 'lev' dimension coordinate masked bounds\n",
      "  warnings.warn(msg.format(str(cf_coord_var.cf_name)))\n",
      "/home/ph290/anaconda2/lib/python2.7/site-packages/iris/fileformats/cf.py:798: UserWarning: Missing CF-netCDF measure variable u'areacello', referenced by netCDF variable u'talk'\n",
      "  warnings.warn(message % (variable_name, nc_var_name))\n",
      "/home/ph290/anaconda2/lib/python2.7/site-packages/iris/fileformats/cf.py:798: UserWarning: Missing CF-netCDF measure variable u'volcello', referenced by netCDF variable u'talk'\n",
      "  warnings.warn(message % (variable_name, nc_var_name))\n",
      "/home/ph290/anaconda2/lib/python2.7/site-packages/iris/fileformats/_pyke_rules/compiled_krb/fc_rules_cf_fc.py:2030: UserWarning: Gracefully filling 'time' dimension coordinate masked points\n",
      "  warnings.warn(msg.format(str(cf_coord_var.cf_name)))\n",
      "/home/ph290/anaconda2/lib/python2.7/site-packages/iris/fileformats/_pyke_rules/compiled_krb/fc_rules_cf_fc.py:2037: UserWarning: Gracefully filling 'time' dimension coordinate masked bounds\n",
      "  warnings.warn(msg.format(str(cf_coord_var.cf_name)))\n",
      "/home/ph290/anaconda2/lib/python2.7/site-packages/iris/fileformats/cf.py:1069: UserWarning: Ignoring formula terms variable u'depth' referenced by data variable u'sigma_bnds' via variable u'lev': Dimensions (u'lat', u'lon') do not span (u'lev', u'bnds')\n",
      "  warnings.warn(msg)\n",
      "/home/ph290/anaconda2/lib/python2.7/site-packages/iris/fileformats/cf.py:1069: UserWarning: Ignoring formula terms variable u'eta' referenced by data variable u'sigma_bnds' via variable u'lev': Dimensions (u'lat', u'lon') do not span (u'lev', u'bnds')\n",
      "  warnings.warn(msg)\n",
      "/home/ph290/anaconda2/lib/python2.7/site-packages/iris/fileformats/cf.py:1069: UserWarning: Ignoring formula terms variable u'depth' referenced by data variable u'zlev_bnds' via variable u'lev': Dimensions (u'lat', u'lon') do not span (u'lev', u'bnds')\n",
      "  warnings.warn(msg)\n",
      "/home/ph290/anaconda2/lib/python2.7/site-packages/iris/fileformats/cf.py:1069: UserWarning: Ignoring formula terms variable u'eta' referenced by data variable u'zlev_bnds' via variable u'lev': Dimensions (u'lat', u'lon') do not span (u'lev', u'bnds')\n",
      "  warnings.warn(msg)\n",
      "/home/ph290/anaconda2/lib/python2.7/site-packages/iris/fileformats/_pyke_rules/compiled_krb/fc_rules_cf_fc.py:2030: UserWarning: Gracefully filling 'lat' dimension coordinate masked points\n",
      "  warnings.warn(msg.format(str(cf_coord_var.cf_name)))\n",
      "/home/ph290/anaconda2/lib/python2.7/site-packages/iris/fileformats/_pyke_rules/compiled_krb/fc_rules_cf_fc.py:2037: UserWarning: Gracefully filling 'lat' dimension coordinate masked bounds\n",
      "  warnings.warn(msg.format(str(cf_coord_var.cf_name)))\n",
      "/home/ph290/anaconda2/lib/python2.7/site-packages/iris/fileformats/_pyke_rules/compiled_krb/fc_rules_cf_fc.py:2030: UserWarning: Gracefully filling 'lon' dimension coordinate masked points\n",
      "  warnings.warn(msg.format(str(cf_coord_var.cf_name)))\n",
      "/home/ph290/anaconda2/lib/python2.7/site-packages/iris/fileformats/_pyke_rules/compiled_krb/fc_rules_cf_fc.py:2037: UserWarning: Gracefully filling 'lon' dimension coordinate masked bounds\n",
      "  warnings.warn(msg.format(str(cf_coord_var.cf_name)))\n",
      "/home/ph290/anaconda2/lib/python2.7/site-packages/iris/fileformats/cf.py:1069: UserWarning: Ignoring formula terms variable u'eta' referenced by data variable u'zlev_bnds' via variable u'lev': Dimensions (u'time', u'lat', u'lon') do not span (u'lev', u'bnds')\n",
      "  warnings.warn(msg)\n",
      "/home/ph290/anaconda2/lib/python2.7/site-packages/iris/fileformats/cf.py:1069: UserWarning: Ignoring formula terms variable u'eta' referenced by data variable u'sigma_bnds' via variable u'lev': Dimensions (u'time', u'lat', u'lon') do not span (u'lev', u'bnds')\n",
      "  warnings.warn(msg)\n",
      "/home/ph290/.local/lib/python2.7/site-packages/numpy/ma/core.py:1016: RuntimeWarning: overflow encountered in multiply\n",
      "  result = self.f(da, db, *args, **kwargs)\n",
      "/home/ph290/anaconda2/lib/python2.7/site-packages/iris/fileformats/_pyke_rules/compiled_krb/fc_rules_cf_fc.py:2077: UserWarning: Failed to create 'i' dimension coordinate: The points array must be strictly monotonic.\n",
      "Gracefully creating 'i' auxiliary coordinate instead.\n",
      "  error=e_msg))\n",
      "/home/ph290/anaconda2/lib/python2.7/site-packages/iris/fileformats/_pyke_rules/compiled_krb/fc_rules_cf_fc.py:2077: UserWarning: Failed to create 'j' dimension coordinate: The points array must be strictly monotonic.\n",
      "Gracefully creating 'j' auxiliary coordinate instead.\n",
      "  error=e_msg))\n",
      "/home/ph290/anaconda2/lib/python2.7/site-packages/iris/fileformats/_pyke_rules/compiled_krb/fc_rules_cf_fc.py:2030: UserWarning: Gracefully filling 'rlat' dimension coordinate masked points\n",
      "  warnings.warn(msg.format(str(cf_coord_var.cf_name)))\n",
      "/home/ph290/anaconda2/lib/python2.7/site-packages/iris/fileformats/_pyke_rules/compiled_krb/fc_rules_cf_fc.py:2030: UserWarning: Gracefully filling 'rlon' dimension coordinate masked points\n",
      "  warnings.warn(msg.format(str(cf_coord_var.cf_name)))\n"
     ]
    }
   ],
   "source": [
    "my_dict = {}\n",
    "\n",
    "for model in models:\n",
    "    vol_cube = iris.load_cube(dir_vol+'volcello_fx_'+model+'_historical_r0i0p0.nc','ocean_volume')\n",
    "    alk_files = glob.glob(dir_alk+'talk_Oyr_'+model+'_rcp85_r1i1p1_*.nc')\n",
    "    alk_cube = iris.load_cube(alk_files[0],'sea_water_alkalinity_expressed_as_mole_equivalent')[0] # m-3\n",
    "    vol_cube.data.mask = alk_cube.data.mask\n",
    "    total_volume = np.ma.sum(vol_cube.data)\n",
    "#     if 1.2e+18 < total_volume < 1.4e+18: #i.e. only look at the models where I know I am correctly calculating the volume\n",
    "    my_dict[model] = {}\n",
    "    total_alk = np.ma.sum(vol_cube.data * alk_cube.data)\n",
    "    my_dict[model]['total_alk'] = total_alk\n",
    "    my_dict[model]['mean_alk'] = total_alk/total_volume\n",
    "    my_dict[model]['total_volume'] = total_volume\n",
    "\n",
    "df = pd.DataFrame.from_dict(my_dict)\n"
   ]
  },
  {
   "cell_type": "code",
   "execution_count": 7,
   "metadata": {},
   "outputs": [
    {
     "name": "stderr",
     "output_type": "stream",
     "text": [
      "/home/ph290/anaconda2/lib/python2.7/site-packages/iris/fileformats/_pyke_rules/compiled_krb/fc_rules_cf_fc.py:1935: UserWarning: Ignoring netCDF variable u'Alk' invalid units u'UMOL/KG'\n",
      "  warnings.warn(msg.encode('ascii', errors='backslashreplace'))\n"
     ]
    }
   ],
   "source": [
    "t_alk_file = '/data/NAS-geo01/ph290/observations/glodap_v1/Alkalinity_glob_tot.nc'\n",
    "glodap_v1_t_alk_cube = (iris.load_cube(t_alk_file)[0,0]/1.0e3)*1.026\n",
    "p_alk_file = '/data/NAS-geo01/ph290/observations/glodap_v1/PAlk_glob_tot.nc'\n",
    "glodap_v1_p_alk_cube = (iris.load_cube(p_alk_file)[0,0]/1.0e3)*1.026\n",
    "\n"
   ]
  },
  {
   "cell_type": "code",
   "execution_count": 13,
   "metadata": {},
   "outputs": [
    {
     "data": {
      "image/png": "[encoded data removed]",
      "text/plain": [
       "<Figure size 432x288 with 1 Axes>"
      ]
     },
     "metadata": {
      "needs_background": "light"
     },
     "output_type": "display_data"
    }
   ],
   "source": [
    "for i,item in enumerate(list(df)):\n",
    "    if df[item].total_volume < 1.0e20:\n",
    "        plt.scatter(i,df[item].mean_alk)\n",
    "\n",
    "plt.plot([0,100],[2.3929118949033,2.3929118949033],label='GLODAPv2 Total Alk')\n",
    "plt.plot([0,100],[glodap_v1_t_alk_cube.data,glodap_v1_t_alk_cube.data],label='GLODAPv1 Total Alk')\n",
    "plt.plot([0,100],[glodap_v1_p_alk_cube.data,glodap_v1_p_alk_cube.data],label='GLODAPv1 Practical Alk')\n",
    "plt.xticks(range(len(list(df))), list(df), rotation='vertical')\n",
    "plt.xlim([0,len(list(df))])\n",
    "plt.legend()\n",
    "plt.ylabel('alkalinity (eq m$^{-3}$)')\n",
    "plt.tight_layout()\n",
    "plt.savefig('./figures/global_alkalinity.png')"
   ]
  },
  {
   "cell_type": "markdown",
   "metadata": {},
   "source": [
    "The total alkalinity (TA) of seawater may be defined as the charge difference between the major conservative (concentration unaffected by changes in pH, pressure, or temperature) cations and anions:\n",
    "(14)\n",
    "The small excess positive charge (~ 2 as compared with ~ 600 mmol kg− 1 total positive charge concentration) is balanced by contributions from carbonate, borate, and water alkalinities (Fig. 4):\n",
    "\n",
    "where PA is the practical alkalinity (alkalinity for most practical purposes). In fact, carbonate alkalinity (CA) is by far the most important contributor to TA, which leads to a useful approximation:"
   ]
  },
  {
   "cell_type": "markdown",
   "metadata": {},
   "source": [
    "<img src=\"https://ars.els-cdn.com/content/image/3-s2.0-B9780124095489097177-eq09717-14-9780124095489.gif\">"
   ]
  },
  {
   "cell_type": "markdown",
   "metadata": {},
   "source": [
    "The small excess positive charge (~ 2 as compared with ~ 600 mmol kg− 1 total positive charge concentration) is balanced by contributions from carbonate, borate, and water alkalinities (Fig. 4)"
   ]
  },
  {
   "cell_type": "markdown",
   "metadata": {},
   "source": [
    "<img src=\"https://ars.els-cdn.com/content/image/3-s2.0-B9780124095489097177-f09717-04-9780124095489.jpg\">"
   ]
  },
  {
   "cell_type": "markdown",
   "metadata": {},
   "source": [
    "<img src=\"https://ars.els-cdn.com/content/image/3-s2.0-B9780124095489097177-eq09717-15-9780124095489.gif\">\n"
   ]
  },
  {
   "cell_type": "markdown",
   "metadata": {},
   "source": [
    "<img src=\"https://ars.els-cdn.com/content/image/3-s2.0-B9780124095489097177-eq09717-16-9780124095489.gif\">"
   ]
  },
  {
   "cell_type": "markdown",
   "metadata": {},
   "source": []
  }
 ],
 "metadata": {
  "kernelspec": {
   "display_name": "Python 2",
   "language": "python",
   "name": "python2"
  },
  "language_info": {
   "codemirror_mode": {
    "name": "ipython",
    "version": 2
   },
   "file_extension": ".py",
   "mimetype": "text/x-python",
   "name": "python",
   "nbconvert_exporter": "python",
   "pygments_lexer": "ipython2",
   "version": "2.7.15"
  }
 },
 "nbformat": 4,
 "nbformat_minor": 2
}
