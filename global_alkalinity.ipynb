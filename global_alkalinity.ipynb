{
 "cells": [
  {
   "cell_type": "code",
   "execution_count": 153,
   "metadata": {},
   "outputs": [],
   "source": [
    "import iris\n",
    "import numpy as np\n",
    "import glob\n",
    "import os\n",
    "import matplotlib.pyplot as plt\n",
    "import iris.quickplot as qplt\n",
    "import matplotlib as mpl\n",
    "import itertools\n",
    "import pandas as pd"
   ]
  },
  {
   "cell_type": "code",
   "execution_count": 29,
   "metadata": {},
   "outputs": [],
   "source": [
    "dir_vol = '/data/NAS-ph290/ph290/cmip5/volcello/'\n",
    "#volcello_fx_ACCESS1-0_historical_r0i0p0.nc\n",
    "dir_alk = '/data/BatCaveNAS/ph290/noc_talk/'\n",
    "#talk_Oyr_HadGEM2-ES_rcp85_r1i1p1_2006-2099.nc"
   ]
  },
  {
   "cell_type": "code",
   "execution_count": 30,
   "metadata": {},
   "outputs": [],
   "source": [
    "\n",
    "def model_names(directory,file_name_format,name_possition):\n",
    "        files = glob.glob(directory+file_name_format)\n",
    "        models_tmp = []\n",
    "        for file in files:\n",
    "                statinfo = os.stat(file)\n",
    "                if statinfo.st_size >= 1:\n",
    "                        models_tmp.append(file.split('/')[-1].split('_')[name_possition])\n",
    "                        models = np.unique(models_tmp)\n",
    "        return models\n"
   ]
  },
  {
   "cell_type": "markdown",
   "metadata": {},
   "source": [
    "\n",
    "due to a issue with how I've compiled stuff (hdf libraries), I had to do GLODAP on JASMIN like:\n",
    "cdo vertmean -fldmean -timmean -selvar,TAlk GLODAPv2.2016b.TAlk.nc GLODAPv2.2016b.TAlk_glob_mean.nc\n",
    "result in:\n",
    "/data/NAS-ph290/ph290/misc_data/GLODAPv2.2016b.TAlk_glob_mean.nc\n",
    "mean is (2332.27280205/1.0e3)*1.026\n",
    "GLODAP = mole equivalent per unit mass\n",
    "CMIP5 = mole_equivalent / (mol m-3))*1.026\n",
    "so glodap mean is 2.3929118949033\n"
   ]
  },
  {
   "cell_type": "code",
   "execution_count": 31,
   "metadata": {},
   "outputs": [],
   "source": [
    "m1 = model_names(dir_vol,'volcello_fx_*_historical_r0i0p0.nc',2)\n",
    "m2 = model_names(dir_alk,'talk_Oyr_*_rcp85_r1i1p1_*.nc',2)\n",
    "models = list(set(m1).intersection(m2))"
   ]
  },
  {
   "cell_type": "code",
   "execution_count": 184,
   "metadata": {},
   "outputs": [],
   "source": [
    "my_dict = {}\n",
    "\n",
    "for model in models:\n",
    "    vol_cube = iris.load_cube(dir_vol+'volcello_fx_'+model+'_historical_r0i0p0.nc','ocean_volume')\n",
    "    alk_files = glob.glob(dir_alk+'talk_Oyr_'+model+'_rcp85_r1i1p1_*.nc')\n",
    "    alk_cube = iris.load_cube(alk_files[0],'sea_water_alkalinity_expressed_as_mole_equivalent')[0] # m-3\n",
    "    vol_cube.data.mask = alk_cube.data.mask\n",
    "    total_volume = np.ma.sum(vol_cube.data)\n",
    "#     if 1.2e+18 < total_volume < 1.4e+18: #i.e. only look at the models where I know I am correctly calculating the volume\n",
    "    my_dict[model] = {}\n",
    "    total_alk = np.ma.sum(vol_cube.data * alk_cube.data)\n",
    "    my_dict[model]['total_alk'] = total_alk\n",
    "    my_dict[model]['mean_alk'] = total_alk/total_volume\n",
    "    my_dict[model]['total_volume'] = total_volume\n",
    "\n",
    "df = pd.DataFrame.from_dict(my_dict)\n"
   ]
  },
  {
   "cell_type": "code",
   "execution_count": 214,
   "metadata": {},
   "outputs": [],
   "source": [
    "t_alk_file = '/data/NAS-geo01/ph290/observations/glodap_v1/Alkalinity_glob_tot.nc'\n",
    "glodap_v1_t_alk_cube = (iris.load_cube(t_alk_file)[0,0]/1.0e3)*1.026\n",
    "p_alk_file = '/data/NAS-geo01/ph290/observations/glodap_v1/PAlk_glob_tot.nc'\n",
    "glodap_v1_p_alk_cube = (iris.load_cube(p_alk_file)[0,0]/1.0e3)*1.026\n",
    "\n"
   ]
  },
  {
   "cell_type": "code",
   "execution_count": 215,
   "metadata": {},
   "outputs": [
    {
     "data": {
      "text/plain": [
       "<matplotlib.legend.Legend at 0x7fa1e1d4f510>"
      ]
     },
     "execution_count": 215,
     "metadata": {},
     "output_type": "execute_result"
    },
    {
     "data": {
      "image/png": "[encoded data removed]",
      "text/plain": [
       "<Figure size 432x288 with 1 Axes>"
      ]
     },
     "metadata": {
      "needs_background": "light"
     },
     "output_type": "display_data"
    }
   ],
   "source": [
    "for i,item in enumerate(list(df)):\n",
    "    if df[item].total_volume < 1.0e20:\n",
    "        plt.scatter(i,df[item].mean_alk)\n",
    "\n",
    "plt.plot([0,100],[2.3929118949033,2.3929118949033],label='GLODAPv2 Total Alk')\n",
    "plt.plot([0,100],[glodap_v1_t_alk_cube.data,glodap_v1_t_alk_cube.data],label='GLODAPv1 Total Alk')\n",
    "plt.plot([0,100],[glodap_v1_p_alk_cube.data,glodap_v1_p_alk_cube.data],label='GLODAPv1 Practical Alk')\n",
    "\n",
    "plt.xticks(range(len(list(df))), list(df), rotation='vertical')\n",
    "plt.xlim([0,len(list(df))])\n",
    "plt.legend()"
   ]
  },
  {
   "cell_type": "markdown",
   "metadata": {},
   "source": [
    "glodap v1"
   ]
  },
  {
   "cell_type": "code",
   "execution_count": 199,
   "metadata": {},
   "outputs": [
    {
     "name": "stdout",
     "output_type": "stream",
     "text": [
      "[[2339.9]]\n",
      "[[2381.4016]]\n"
     ]
    }
   ],
   "source": [
    "print t_alk_cube.data\n",
    "print p_alk_cube.data\n",
    "\n"
   ]
  },
  {
   "cell_type": "code",
   "execution_count": null,
   "metadata": {},
   "outputs": [],
   "source": []
  }
 ],
 "metadata": {
  "kernelspec": {
   "display_name": "Python 2",
   "language": "python",
   "name": "python2"
  },
  "language_info": {
   "codemirror_mode": {
    "name": "ipython",
    "version": 2
   },
   "file_extension": ".py",
   "mimetype": "text/x-python",
   "name": "python",
   "nbconvert_exporter": "python",
   "pygments_lexer": "ipython2",
   "version": "2.7.15"
  }
 },
 "nbformat": 4,
 "nbformat_minor": 2
}
